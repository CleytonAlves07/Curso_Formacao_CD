{
 "cells": [
  {
   "cell_type": "code",
   "execution_count": null,
   "metadata": {},
   "outputs": [],
   "source": []
  },
  {
   "cell_type": "markdown",
   "metadata": {},
   "source": [
    "-  Intervalo de confiança - Representa a margem de erro estimada ao utilizar uma amostra de uma população.\n",
    "\n",
    "- Nível de confiança (z*) - Taxa de sucesso de um método. Ele mostra com que frequência o tipo de intervalo vai capturar o parâmetro de interesse.\n",
    "    -Em um estudo que tenha o intervalo de confiança de 95%. É esperado que 5% das vezes o resultado esteja fora do intervalo de confiança.\n",
    "\n"
   ]
  },
  {
   "cell_type": "markdown",
   "metadata": {},
   "source": [
    "Alfa e -p\n",
    "\n",
    "alfa - 0,05\n",
    "\n",
    "Valor de -p >= alfa => não rejeita Hipótese (H0)\n",
    "Valor de -p < alfa => rejeita Hipótese (H0)"
   ]
  },
  {
   "cell_type": "markdown",
   "metadata": {},
   "source": [
    "Z - Quantos desvio padrão está o valor da média\n",
    "Z* - Nível de confiança"
   ]
  }
 ],
 "metadata": {
  "language_info": {
   "name": "python"
  }
 },
 "nbformat": 4,
 "nbformat_minor": 2
}
