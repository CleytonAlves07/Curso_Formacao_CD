{
 "cells": [
  {
   "cell_type": "code",
   "execution_count": 4,
   "metadata": {},
   "outputs": [
    {
     "name": "stdout",
     "output_type": "stream",
     "text": [
      "[[0.49273603 0.14585847 0.14499065]\n",
      " [0.91907914 0.44051432 0.11670967]\n",
      " [0.73961236 0.06101867 0.65615585]\n",
      " [0.06616893 0.75431053 0.3432359 ]\n",
      " [0.27226502 0.39882128 0.25546374]]\n"
     ]
    }
   ],
   "source": [
    "from numpy import *\n",
    "x = random.random((5,3))\n",
    "print(x)"
   ]
  },
  {
   "cell_type": "code",
   "execution_count": 32,
   "metadata": {},
   "outputs": [
    {
     "name": "stdout",
     "output_type": "stream",
     "text": [
      "[ 1 13 18 23 27 27 28]\n",
      "A amplitude dessa lista vai de 1 até 28\n"
     ]
    }
   ],
   "source": [
    "from numpy import *\n",
    "\n",
    "lista_numeros_aleatorios_inteiros = random.randint(1, 30, 7)\n",
    "lista_numeros_aleatorios_inteiros.sort()\n",
    "print(lista_numeros_aleatorios_inteiros)\n",
    "\n",
    "def amplitude (lista: list):\n",
    "    minimo = min(lista)\n",
    "    maximo = max(lista)\n",
    "    print(f'A amplitude dessa lista vai de {minimo} até {maximo}')\n",
    "\n",
    "amplitude(lista_numeros_aleatorios_inteiros)"
   ]
  },
  {
   "cell_type": "code",
   "execution_count": 34,
   "metadata": {},
   "outputs": [
    {
     "name": "stdout",
     "output_type": "stream",
     "text": [
      "P\n",
      "y\n",
      "t\n",
      "h\n",
      "o\n",
      "n\n"
     ]
    }
   ],
   "source": [
    "def imprimeLetrasDaPalavra(palavra: string_) :\n",
    "    for letra in palavra:\n",
    "        print(letra)\n",
    "\n",
    "imprimeLetrasDaPalavra(\"Python\")"
   ]
  },
  {
   "cell_type": "code",
   "execution_count": 45,
   "metadata": {},
   "outputs": [
    {
     "name": "stdout",
     "output_type": "stream",
     "text": [
      "Peso 23 kg acima do aceitável para transporte.\n"
     ]
    }
   ],
   "source": [
    "def precoPeloPesoCarga (peso: int):\n",
    "    if peso <= 10:\n",
    "        print(f\"Peso da carga {peso} kg\\n\"\n",
    "              \"Valor: R$ 50,00\")\n",
    "    elif 11 <= peso <= 20 :\n",
    "        print(f\"Peso da carga {peso} kg\\n\"\n",
    "              \"Valor: R$ 80,00\")\n",
    "    elif peso <= 0:\n",
    "        print(\"Peso inválido\")\n",
    "    else :\n",
    "        print(f\"Peso {peso} kg acima do aceitável para transporte.\")\n",
    "        \n",
    "precoPeloPesoCarga(23)"
   ]
  }
 ],
 "metadata": {
  "kernelspec": {
   "display_name": "Python 3",
   "language": "python",
   "name": "python3"
  },
  "language_info": {
   "codemirror_mode": {
    "name": "ipython",
    "version": 3
   },
   "file_extension": ".py",
   "mimetype": "text/x-python",
   "name": "python",
   "nbconvert_exporter": "python",
   "pygments_lexer": "ipython3",
   "version": "3.10.12"
  }
 },
 "nbformat": 4,
 "nbformat_minor": 2
}
